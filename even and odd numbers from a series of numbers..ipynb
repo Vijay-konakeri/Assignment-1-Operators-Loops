{
 "cells": [
  {
   "cell_type": "markdown",
   "id": "0045bdcb",
   "metadata": {},
   "source": [
    "Don't go Outside in Odd day"
   ]
  },
  {
   "cell_type": "code",
   "execution_count": 1,
   "id": "bbad0271",
   "metadata": {},
   "outputs": [
    {
     "name": "stdout",
     "output_type": "stream",
     "text": [
      "Enter any numbers seperated by comma: 1,2,3,4,5,6,7,8,9,10,11,12,13,14\n",
      "Number of even numbers : 7\n",
      "Number of odd numbers : 7\n"
     ]
    }
   ],
   "source": [
    "#take input from user\n",
    "numbers = input(\"Enter any numbers seperated by comma: \")\n",
    "\n",
    "#split the input by comma \n",
    "numbers = numbers.split(\",\")\n",
    "\n",
    "#declare a counter for even and odd\n",
    "even = 0\n",
    "odd = 0\n",
    "\n",
    "#use while loop to iterate through the list\n",
    "i = 0\n",
    "while i<len(numbers):\n",
    "    if int(numbers[i]) % 2 == 0:\n",
    "        even+=1\n",
    "    else:\n",
    "        odd+=1\n",
    "    i+=1\n",
    "\n",
    "#print the result\n",
    "print(\"Number of even numbers :\",even)\n",
    "print(\"Number of odd numbers :\",odd)"
   ]
  }
 ],
 "metadata": {
  "kernelspec": {
   "display_name": "Python 3 (ipykernel)",
   "language": "python",
   "name": "python3"
  },
  "language_info": {
   "codemirror_mode": {
    "name": "ipython",
    "version": 3
   },
   "file_extension": ".py",
   "mimetype": "text/x-python",
   "name": "python",
   "nbconvert_exporter": "python",
   "pygments_lexer": "ipython3",
   "version": "3.11.1"
  }
 },
 "nbformat": 4,
 "nbformat_minor": 5
}
