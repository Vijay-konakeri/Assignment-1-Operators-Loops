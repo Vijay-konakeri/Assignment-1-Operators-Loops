{
 "cells": [
  {
   "cell_type": "markdown",
   "id": "1b57696c",
   "metadata": {},
   "source": [
    "Send the Words To Mirror Dimension"
   ]
  },
  {
   "cell_type": "code",
   "execution_count": 1,
   "id": "ca4d1bc7",
   "metadata": {},
   "outputs": [
    {
     "name": "stdout",
     "output_type": "stream",
     "text": [
      "Enter a word: Edyoda\n",
      "adoydE\n"
     ]
    }
   ],
   "source": [
    "word = input(\"Enter a word: \")\n",
    "\n",
    "# Reverse the word\n",
    "reversed_word = word[::-1]\n",
    "\n",
    "# Print the reversed word\n",
    "print(reversed_word)"
   ]
  }
 ],
 "metadata": {
  "kernelspec": {
   "display_name": "Python 3 (ipykernel)",
   "language": "python",
   "name": "python3"
  },
  "language_info": {
   "codemirror_mode": {
    "name": "ipython",
    "version": 3
   },
   "file_extension": ".py",
   "mimetype": "text/x-python",
   "name": "python",
   "nbconvert_exporter": "python",
   "pygments_lexer": "ipython3",
   "version": "3.11.1"
  }
 },
 "nbformat": 4,
 "nbformat_minor": 5
}
